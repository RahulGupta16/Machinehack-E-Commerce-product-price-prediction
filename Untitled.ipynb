{
 "cells": [
  {
   "cell_type": "code",
   "execution_count": 3103,
   "metadata": {},
   "outputs": [],
   "source": [
    "import numpy as np\n",
    "import pandas as pd\n",
    "import matplotlib.pyplot as plt\n",
    "import seaborn as sns\n",
    "import re\n",
    "from sklearn.metrics import mean_squared_error, mean_squared_log_error\n",
    "from sklearn.preprocessing import StandardScaler, MinMaxScaler, power_transform, LabelEncoder\n",
    "from sklearn.linear_model import LinearRegression\n",
    "from sklearn.tree import DecisionTreeRegressor\n",
    "from sklearn.ensemble import RandomForestRegressor,ExtraTreesRegressor, AdaBoostRegressor, GradientBoostingRegressor, VotingRegressor, BaggingRegressor\n",
    "import lightgbm as lgb\n",
    "import xgboost as xgb\n",
    "from sklearn.svm import SVR\n",
    "from sklearn.model_selection import StratifiedShuffleSplit,KFold\n",
    "import warnings\n",
    "warnings.filterwarnings(action='ignore')"
   ]
  },
  {
   "cell_type": "code",
   "execution_count": 3104,
   "metadata": {},
   "outputs": [],
   "source": [
    "train = pd.read_csv(r'C:\\Users\\Rahul\\Desktop\\Machinehack-E-Commerce-product-price-prediction\\Train.csv')\n",
    "test = pd.read_csv(r'C:\\Users\\Rahul\\Desktop\\Machinehack-E-Commerce-product-price-prediction\\Test.csv')\n",
    "sample = pd.read_excel(r'C:\\Users\\Rahul\\Desktop\\Machinehack-E-Commerce-product-price-prediction\\Sample_Submission.xlsx')"
   ]
  },
  {
   "cell_type": "code",
   "execution_count": 3105,
   "metadata": {},
   "outputs": [
    {
     "data": {
      "text/html": [
       "<div>\n",
       "<style scoped>\n",
       "    .dataframe tbody tr th:only-of-type {\n",
       "        vertical-align: middle;\n",
       "    }\n",
       "\n",
       "    .dataframe tbody tr th {\n",
       "        vertical-align: top;\n",
       "    }\n",
       "\n",
       "    .dataframe thead th {\n",
       "        text-align: right;\n",
       "    }\n",
       "</style>\n",
       "<table border=\"1\" class=\"dataframe\">\n",
       "  <thead>\n",
       "    <tr style=\"text-align: right;\">\n",
       "      <th></th>\n",
       "      <th>Product</th>\n",
       "      <th>Product_Brand</th>\n",
       "      <th>Item_Category</th>\n",
       "      <th>Subcategory_1</th>\n",
       "      <th>Subcategory_2</th>\n",
       "      <th>Item_Rating</th>\n",
       "      <th>Date</th>\n",
       "      <th>Selling_Price</th>\n",
       "    </tr>\n",
       "  </thead>\n",
       "  <tbody>\n",
       "    <tr>\n",
       "      <th>0</th>\n",
       "      <td>P-2610</td>\n",
       "      <td>B-659</td>\n",
       "      <td>bags wallets belts</td>\n",
       "      <td>bags</td>\n",
       "      <td>hand bags</td>\n",
       "      <td>4.3</td>\n",
       "      <td>2/3/2017</td>\n",
       "      <td>291.0</td>\n",
       "    </tr>\n",
       "    <tr>\n",
       "      <th>1</th>\n",
       "      <td>P-2453</td>\n",
       "      <td>B-3078</td>\n",
       "      <td>clothing</td>\n",
       "      <td>women s clothing</td>\n",
       "      <td>western wear</td>\n",
       "      <td>3.1</td>\n",
       "      <td>7/1/2015</td>\n",
       "      <td>897.0</td>\n",
       "    </tr>\n",
       "    <tr>\n",
       "      <th>2</th>\n",
       "      <td>P-6802</td>\n",
       "      <td>B-1810</td>\n",
       "      <td>home decor festive needs</td>\n",
       "      <td>showpieces</td>\n",
       "      <td>ethnic</td>\n",
       "      <td>3.5</td>\n",
       "      <td>1/12/2019</td>\n",
       "      <td>792.0</td>\n",
       "    </tr>\n",
       "    <tr>\n",
       "      <th>3</th>\n",
       "      <td>P-4452</td>\n",
       "      <td>B-3078</td>\n",
       "      <td>beauty and personal care</td>\n",
       "      <td>eye care</td>\n",
       "      <td>h2o plus eye care</td>\n",
       "      <td>4.0</td>\n",
       "      <td>12/12/2014</td>\n",
       "      <td>837.0</td>\n",
       "    </tr>\n",
       "    <tr>\n",
       "      <th>4</th>\n",
       "      <td>P-8454</td>\n",
       "      <td>B-3078</td>\n",
       "      <td>clothing</td>\n",
       "      <td>men s clothing</td>\n",
       "      <td>t shirts</td>\n",
       "      <td>4.3</td>\n",
       "      <td>12/12/2013</td>\n",
       "      <td>470.0</td>\n",
       "    </tr>\n",
       "  </tbody>\n",
       "</table>\n",
       "</div>"
      ],
      "text/plain": [
       "  Product Product_Brand             Item_Category     Subcategory_1  \\\n",
       "0  P-2610         B-659        bags wallets belts              bags   \n",
       "1  P-2453        B-3078                  clothing  women s clothing   \n",
       "2  P-6802        B-1810  home decor festive needs        showpieces   \n",
       "3  P-4452        B-3078  beauty and personal care          eye care   \n",
       "4  P-8454        B-3078                  clothing    men s clothing   \n",
       "\n",
       "       Subcategory_2  Item_Rating        Date  Selling_Price  \n",
       "0          hand bags          4.3    2/3/2017          291.0  \n",
       "1       western wear          3.1    7/1/2015          897.0  \n",
       "2             ethnic          3.5   1/12/2019          792.0  \n",
       "3  h2o plus eye care          4.0  12/12/2014          837.0  \n",
       "4           t shirts          4.3  12/12/2013          470.0  "
      ]
     },
     "execution_count": 3105,
     "metadata": {},
     "output_type": "execute_result"
    }
   ],
   "source": [
    "train.head()"
   ]
  },
  {
   "cell_type": "code",
   "execution_count": 3106,
   "metadata": {},
   "outputs": [
    {
     "data": {
      "text/html": [
       "<div>\n",
       "<style scoped>\n",
       "    .dataframe tbody tr th:only-of-type {\n",
       "        vertical-align: middle;\n",
       "    }\n",
       "\n",
       "    .dataframe tbody tr th {\n",
       "        vertical-align: top;\n",
       "    }\n",
       "\n",
       "    .dataframe thead th {\n",
       "        text-align: right;\n",
       "    }\n",
       "</style>\n",
       "<table border=\"1\" class=\"dataframe\">\n",
       "  <thead>\n",
       "    <tr style=\"text-align: right;\">\n",
       "      <th></th>\n",
       "      <th>Product</th>\n",
       "      <th>Product_Brand</th>\n",
       "      <th>Item_Category</th>\n",
       "      <th>Subcategory_1</th>\n",
       "      <th>Subcategory_2</th>\n",
       "      <th>Item_Rating</th>\n",
       "      <th>Date</th>\n",
       "    </tr>\n",
       "  </thead>\n",
       "  <tbody>\n",
       "    <tr>\n",
       "      <th>0</th>\n",
       "      <td>P-11284</td>\n",
       "      <td>B-2984</td>\n",
       "      <td>computers</td>\n",
       "      <td>network components</td>\n",
       "      <td>routers</td>\n",
       "      <td>4.3</td>\n",
       "      <td>1/12/2018</td>\n",
       "    </tr>\n",
       "    <tr>\n",
       "      <th>1</th>\n",
       "      <td>P-6580</td>\n",
       "      <td>B-1732</td>\n",
       "      <td>jewellery</td>\n",
       "      <td>bangles bracelets armlets</td>\n",
       "      <td>bracelets</td>\n",
       "      <td>3.0</td>\n",
       "      <td>20/12/2012</td>\n",
       "    </tr>\n",
       "    <tr>\n",
       "      <th>2</th>\n",
       "      <td>P-5843</td>\n",
       "      <td>B-3078</td>\n",
       "      <td>clothing</td>\n",
       "      <td>women s clothing</td>\n",
       "      <td>western wear</td>\n",
       "      <td>1.5</td>\n",
       "      <td>1/12/2014</td>\n",
       "    </tr>\n",
       "    <tr>\n",
       "      <th>3</th>\n",
       "      <td>P-5334</td>\n",
       "      <td>B-1421</td>\n",
       "      <td>jewellery</td>\n",
       "      <td>necklaces chains</td>\n",
       "      <td>necklaces</td>\n",
       "      <td>3.9</td>\n",
       "      <td>1/12/2019</td>\n",
       "    </tr>\n",
       "    <tr>\n",
       "      <th>4</th>\n",
       "      <td>P-5586</td>\n",
       "      <td>B-3078</td>\n",
       "      <td>clothing</td>\n",
       "      <td>women s clothing</td>\n",
       "      <td>western wear</td>\n",
       "      <td>1.4</td>\n",
       "      <td>1/12/2017</td>\n",
       "    </tr>\n",
       "  </tbody>\n",
       "</table>\n",
       "</div>"
      ],
      "text/plain": [
       "   Product Product_Brand Item_Category              Subcategory_1  \\\n",
       "0  P-11284        B-2984     computers         network components   \n",
       "1   P-6580        B-1732     jewellery  bangles bracelets armlets   \n",
       "2   P-5843        B-3078      clothing           women s clothing   \n",
       "3   P-5334        B-1421     jewellery           necklaces chains   \n",
       "4   P-5586        B-3078      clothing           women s clothing   \n",
       "\n",
       "  Subcategory_2  Item_Rating        Date  \n",
       "0       routers          4.3   1/12/2018  \n",
       "1     bracelets          3.0  20/12/2012  \n",
       "2  western wear          1.5   1/12/2014  \n",
       "3     necklaces          3.9   1/12/2019  \n",
       "4  western wear          1.4   1/12/2017  "
      ]
     },
     "execution_count": 3106,
     "metadata": {},
     "output_type": "execute_result"
    }
   ],
   "source": [
    "test.head()"
   ]
  },
  {
   "cell_type": "code",
   "execution_count": 3107,
   "metadata": {},
   "outputs": [
    {
     "data": {
      "text/html": [
       "<div>\n",
       "<style scoped>\n",
       "    .dataframe tbody tr th:only-of-type {\n",
       "        vertical-align: middle;\n",
       "    }\n",
       "\n",
       "    .dataframe tbody tr th {\n",
       "        vertical-align: top;\n",
       "    }\n",
       "\n",
       "    .dataframe thead th {\n",
       "        text-align: right;\n",
       "    }\n",
       "</style>\n",
       "<table border=\"1\" class=\"dataframe\">\n",
       "  <thead>\n",
       "    <tr style=\"text-align: right;\">\n",
       "      <th></th>\n",
       "      <th>Product</th>\n",
       "      <th>Product_Brand</th>\n",
       "      <th>Item_Category</th>\n",
       "      <th>Subcategory_1</th>\n",
       "      <th>Subcategory_2</th>\n",
       "      <th>Item_Rating</th>\n",
       "      <th>Date</th>\n",
       "      <th>Selling_Price</th>\n",
       "    </tr>\n",
       "  </thead>\n",
       "  <tbody>\n",
       "    <tr>\n",
       "      <th>0</th>\n",
       "      <td>P-2610</td>\n",
       "      <td>B-659</td>\n",
       "      <td>bags wallets belts</td>\n",
       "      <td>bags</td>\n",
       "      <td>hand bags</td>\n",
       "      <td>4.3</td>\n",
       "      <td>2/3/2017</td>\n",
       "      <td>291.0</td>\n",
       "    </tr>\n",
       "    <tr>\n",
       "      <th>1</th>\n",
       "      <td>P-2453</td>\n",
       "      <td>B-3078</td>\n",
       "      <td>clothing</td>\n",
       "      <td>women s clothing</td>\n",
       "      <td>western wear</td>\n",
       "      <td>3.1</td>\n",
       "      <td>7/1/2015</td>\n",
       "      <td>897.0</td>\n",
       "    </tr>\n",
       "    <tr>\n",
       "      <th>2</th>\n",
       "      <td>P-6802</td>\n",
       "      <td>B-1810</td>\n",
       "      <td>home decor festive needs</td>\n",
       "      <td>showpieces</td>\n",
       "      <td>ethnic</td>\n",
       "      <td>3.5</td>\n",
       "      <td>1/12/2019</td>\n",
       "      <td>792.0</td>\n",
       "    </tr>\n",
       "    <tr>\n",
       "      <th>3</th>\n",
       "      <td>P-4452</td>\n",
       "      <td>B-3078</td>\n",
       "      <td>beauty and personal care</td>\n",
       "      <td>eye care</td>\n",
       "      <td>h2o plus eye care</td>\n",
       "      <td>4.0</td>\n",
       "      <td>12/12/2014</td>\n",
       "      <td>837.0</td>\n",
       "    </tr>\n",
       "    <tr>\n",
       "      <th>4</th>\n",
       "      <td>P-8454</td>\n",
       "      <td>B-3078</td>\n",
       "      <td>clothing</td>\n",
       "      <td>men s clothing</td>\n",
       "      <td>t shirts</td>\n",
       "      <td>4.3</td>\n",
       "      <td>12/12/2013</td>\n",
       "      <td>470.0</td>\n",
       "    </tr>\n",
       "  </tbody>\n",
       "</table>\n",
       "</div>"
      ],
      "text/plain": [
       "  Product Product_Brand             Item_Category     Subcategory_1  \\\n",
       "0  P-2610         B-659        bags wallets belts              bags   \n",
       "1  P-2453        B-3078                  clothing  women s clothing   \n",
       "2  P-6802        B-1810  home decor festive needs        showpieces   \n",
       "3  P-4452        B-3078  beauty and personal care          eye care   \n",
       "4  P-8454        B-3078                  clothing    men s clothing   \n",
       "\n",
       "       Subcategory_2  Item_Rating        Date  Selling_Price  \n",
       "0          hand bags          4.3    2/3/2017          291.0  \n",
       "1       western wear          3.1    7/1/2015          897.0  \n",
       "2             ethnic          3.5   1/12/2019          792.0  \n",
       "3  h2o plus eye care          4.0  12/12/2014          837.0  \n",
       "4           t shirts          4.3  12/12/2013          470.0  "
      ]
     },
     "execution_count": 3107,
     "metadata": {},
     "output_type": "execute_result"
    }
   ],
   "source": [
    "train.head()"
   ]
  },
  {
   "cell_type": "code",
   "execution_count": 3108,
   "metadata": {},
   "outputs": [
    {
     "name": "stdout",
     "output_type": "stream",
     "text": [
      "<class 'pandas.core.frame.DataFrame'>\n",
      "RangeIndex: 2452 entries, 0 to 2451\n",
      "Data columns (total 8 columns):\n",
      "Product          2452 non-null object\n",
      "Product_Brand    2452 non-null object\n",
      "Item_Category    2452 non-null object\n",
      "Subcategory_1    2452 non-null object\n",
      "Subcategory_2    2452 non-null object\n",
      "Item_Rating      2452 non-null float64\n",
      "Date             2452 non-null object\n",
      "Selling_Price    2452 non-null float64\n",
      "dtypes: float64(2), object(6)\n",
      "memory usage: 153.3+ KB\n"
     ]
    }
   ],
   "source": [
    "train.info()"
   ]
  },
  {
   "cell_type": "code",
   "execution_count": 3109,
   "metadata": {},
   "outputs": [
    {
     "name": "stdout",
     "output_type": "stream",
     "text": [
      "<class 'pandas.core.frame.DataFrame'>\n",
      "RangeIndex: 1051 entries, 0 to 1050\n",
      "Data columns (total 7 columns):\n",
      "Product          1051 non-null object\n",
      "Product_Brand    1051 non-null object\n",
      "Item_Category    1051 non-null object\n",
      "Subcategory_1    1051 non-null object\n",
      "Subcategory_2    1051 non-null object\n",
      "Item_Rating      1051 non-null float64\n",
      "Date             1051 non-null object\n",
      "dtypes: float64(1), object(6)\n",
      "memory usage: 57.6+ KB\n"
     ]
    }
   ],
   "source": [
    "test.info()"
   ]
  },
  {
   "cell_type": "code",
   "execution_count": 3110,
   "metadata": {},
   "outputs": [
    {
     "data": {
      "text/html": [
       "<div>\n",
       "<style scoped>\n",
       "    .dataframe tbody tr th:only-of-type {\n",
       "        vertical-align: middle;\n",
       "    }\n",
       "\n",
       "    .dataframe tbody tr th {\n",
       "        vertical-align: top;\n",
       "    }\n",
       "\n",
       "    .dataframe thead th {\n",
       "        text-align: right;\n",
       "    }\n",
       "</style>\n",
       "<table border=\"1\" class=\"dataframe\">\n",
       "  <thead>\n",
       "    <tr style=\"text-align: right;\">\n",
       "      <th></th>\n",
       "      <th>Product</th>\n",
       "      <th>Product_Brand</th>\n",
       "      <th>Item_Category</th>\n",
       "      <th>Subcategory_1</th>\n",
       "      <th>Subcategory_2</th>\n",
       "      <th>Item_Rating</th>\n",
       "      <th>Date</th>\n",
       "      <th>Selling_Price</th>\n",
       "    </tr>\n",
       "  </thead>\n",
       "  <tbody>\n",
       "    <tr>\n",
       "      <th>count</th>\n",
       "      <td>2452</td>\n",
       "      <td>2452</td>\n",
       "      <td>2452</td>\n",
       "      <td>2452</td>\n",
       "      <td>2452</td>\n",
       "      <td>2452.000000</td>\n",
       "      <td>2452</td>\n",
       "      <td>2452.000000</td>\n",
       "    </tr>\n",
       "    <tr>\n",
       "      <th>unique</th>\n",
       "      <td>2452</td>\n",
       "      <td>1010</td>\n",
       "      <td>75</td>\n",
       "      <td>130</td>\n",
       "      <td>336</td>\n",
       "      <td>NaN</td>\n",
       "      <td>483</td>\n",
       "      <td>NaN</td>\n",
       "    </tr>\n",
       "    <tr>\n",
       "      <th>top</th>\n",
       "      <td>P-11119</td>\n",
       "      <td>B-3078</td>\n",
       "      <td>clothing</td>\n",
       "      <td>women s clothing</td>\n",
       "      <td>western wear</td>\n",
       "      <td>NaN</td>\n",
       "      <td>1/12/2013</td>\n",
       "      <td>NaN</td>\n",
       "    </tr>\n",
       "    <tr>\n",
       "      <th>freq</th>\n",
       "      <td>1</td>\n",
       "      <td>688</td>\n",
       "      <td>717</td>\n",
       "      <td>476</td>\n",
       "      <td>267</td>\n",
       "      <td>NaN</td>\n",
       "      <td>86</td>\n",
       "      <td>NaN</td>\n",
       "    </tr>\n",
       "    <tr>\n",
       "      <th>mean</th>\n",
       "      <td>NaN</td>\n",
       "      <td>NaN</td>\n",
       "      <td>NaN</td>\n",
       "      <td>NaN</td>\n",
       "      <td>NaN</td>\n",
       "      <td>3.078467</td>\n",
       "      <td>NaN</td>\n",
       "      <td>2494.375612</td>\n",
       "    </tr>\n",
       "    <tr>\n",
       "      <th>std</th>\n",
       "      <td>NaN</td>\n",
       "      <td>NaN</td>\n",
       "      <td>NaN</td>\n",
       "      <td>NaN</td>\n",
       "      <td>NaN</td>\n",
       "      <td>1.187137</td>\n",
       "      <td>NaN</td>\n",
       "      <td>7115.256516</td>\n",
       "    </tr>\n",
       "    <tr>\n",
       "      <th>min</th>\n",
       "      <td>NaN</td>\n",
       "      <td>NaN</td>\n",
       "      <td>NaN</td>\n",
       "      <td>NaN</td>\n",
       "      <td>NaN</td>\n",
       "      <td>1.000000</td>\n",
       "      <td>NaN</td>\n",
       "      <td>33.000000</td>\n",
       "    </tr>\n",
       "    <tr>\n",
       "      <th>25%</th>\n",
       "      <td>NaN</td>\n",
       "      <td>NaN</td>\n",
       "      <td>NaN</td>\n",
       "      <td>NaN</td>\n",
       "      <td>NaN</td>\n",
       "      <td>2.000000</td>\n",
       "      <td>NaN</td>\n",
       "      <td>371.000000</td>\n",
       "    </tr>\n",
       "    <tr>\n",
       "      <th>50%</th>\n",
       "      <td>NaN</td>\n",
       "      <td>NaN</td>\n",
       "      <td>NaN</td>\n",
       "      <td>NaN</td>\n",
       "      <td>NaN</td>\n",
       "      <td>3.100000</td>\n",
       "      <td>NaN</td>\n",
       "      <td>596.000000</td>\n",
       "    </tr>\n",
       "    <tr>\n",
       "      <th>75%</th>\n",
       "      <td>NaN</td>\n",
       "      <td>NaN</td>\n",
       "      <td>NaN</td>\n",
       "      <td>NaN</td>\n",
       "      <td>NaN</td>\n",
       "      <td>4.100000</td>\n",
       "      <td>NaN</td>\n",
       "      <td>1195.250000</td>\n",
       "    </tr>\n",
       "    <tr>\n",
       "      <th>max</th>\n",
       "      <td>NaN</td>\n",
       "      <td>NaN</td>\n",
       "      <td>NaN</td>\n",
       "      <td>NaN</td>\n",
       "      <td>NaN</td>\n",
       "      <td>5.000000</td>\n",
       "      <td>NaN</td>\n",
       "      <td>116289.000000</td>\n",
       "    </tr>\n",
       "  </tbody>\n",
       "</table>\n",
       "</div>"
      ],
      "text/plain": [
       "        Product Product_Brand Item_Category     Subcategory_1 Subcategory_2  \\\n",
       "count      2452          2452          2452              2452          2452   \n",
       "unique     2452          1010            75               130           336   \n",
       "top     P-11119        B-3078      clothing  women s clothing  western wear   \n",
       "freq          1           688           717               476           267   \n",
       "mean        NaN           NaN           NaN               NaN           NaN   \n",
       "std         NaN           NaN           NaN               NaN           NaN   \n",
       "min         NaN           NaN           NaN               NaN           NaN   \n",
       "25%         NaN           NaN           NaN               NaN           NaN   \n",
       "50%         NaN           NaN           NaN               NaN           NaN   \n",
       "75%         NaN           NaN           NaN               NaN           NaN   \n",
       "max         NaN           NaN           NaN               NaN           NaN   \n",
       "\n",
       "        Item_Rating       Date  Selling_Price  \n",
       "count   2452.000000       2452    2452.000000  \n",
       "unique          NaN        483            NaN  \n",
       "top             NaN  1/12/2013            NaN  \n",
       "freq            NaN         86            NaN  \n",
       "mean       3.078467        NaN    2494.375612  \n",
       "std        1.187137        NaN    7115.256516  \n",
       "min        1.000000        NaN      33.000000  \n",
       "25%        2.000000        NaN     371.000000  \n",
       "50%        3.100000        NaN     596.000000  \n",
       "75%        4.100000        NaN    1195.250000  \n",
       "max        5.000000        NaN  116289.000000  "
      ]
     },
     "execution_count": 3110,
     "metadata": {},
     "output_type": "execute_result"
    }
   ],
   "source": [
    "train.describe(include = ['O','I','float'])"
   ]
  },
  {
   "cell_type": "code",
   "execution_count": 3111,
   "metadata": {},
   "outputs": [
    {
     "data": {
      "text/html": [
       "<div>\n",
       "<style scoped>\n",
       "    .dataframe tbody tr th:only-of-type {\n",
       "        vertical-align: middle;\n",
       "    }\n",
       "\n",
       "    .dataframe tbody tr th {\n",
       "        vertical-align: top;\n",
       "    }\n",
       "\n",
       "    .dataframe thead th {\n",
       "        text-align: right;\n",
       "    }\n",
       "</style>\n",
       "<table border=\"1\" class=\"dataframe\">\n",
       "  <thead>\n",
       "    <tr style=\"text-align: right;\">\n",
       "      <th></th>\n",
       "      <th>Product</th>\n",
       "      <th>Product_Brand</th>\n",
       "      <th>Item_Category</th>\n",
       "      <th>Subcategory_1</th>\n",
       "      <th>Subcategory_2</th>\n",
       "      <th>Item_Rating</th>\n",
       "      <th>Date</th>\n",
       "    </tr>\n",
       "  </thead>\n",
       "  <tbody>\n",
       "    <tr>\n",
       "      <th>count</th>\n",
       "      <td>1051</td>\n",
       "      <td>1051</td>\n",
       "      <td>1051</td>\n",
       "      <td>1051</td>\n",
       "      <td>1051</td>\n",
       "      <td>1051.000000</td>\n",
       "      <td>1051</td>\n",
       "    </tr>\n",
       "    <tr>\n",
       "      <th>unique</th>\n",
       "      <td>1051</td>\n",
       "      <td>494</td>\n",
       "      <td>47</td>\n",
       "      <td>93</td>\n",
       "      <td>194</td>\n",
       "      <td>NaN</td>\n",
       "      <td>318</td>\n",
       "    </tr>\n",
       "    <tr>\n",
       "      <th>top</th>\n",
       "      <td>P-7564</td>\n",
       "      <td>B-3078</td>\n",
       "      <td>clothing</td>\n",
       "      <td>women s clothing</td>\n",
       "      <td>western wear</td>\n",
       "      <td>NaN</td>\n",
       "      <td>1/12/2018</td>\n",
       "    </tr>\n",
       "    <tr>\n",
       "      <th>freq</th>\n",
       "      <td>1</td>\n",
       "      <td>317</td>\n",
       "      <td>320</td>\n",
       "      <td>219</td>\n",
       "      <td>117</td>\n",
       "      <td>NaN</td>\n",
       "      <td>37</td>\n",
       "    </tr>\n",
       "    <tr>\n",
       "      <th>mean</th>\n",
       "      <td>NaN</td>\n",
       "      <td>NaN</td>\n",
       "      <td>NaN</td>\n",
       "      <td>NaN</td>\n",
       "      <td>NaN</td>\n",
       "      <td>3.074025</td>\n",
       "      <td>NaN</td>\n",
       "    </tr>\n",
       "    <tr>\n",
       "      <th>std</th>\n",
       "      <td>NaN</td>\n",
       "      <td>NaN</td>\n",
       "      <td>NaN</td>\n",
       "      <td>NaN</td>\n",
       "      <td>NaN</td>\n",
       "      <td>1.210880</td>\n",
       "      <td>NaN</td>\n",
       "    </tr>\n",
       "    <tr>\n",
       "      <th>min</th>\n",
       "      <td>NaN</td>\n",
       "      <td>NaN</td>\n",
       "      <td>NaN</td>\n",
       "      <td>NaN</td>\n",
       "      <td>NaN</td>\n",
       "      <td>1.000000</td>\n",
       "      <td>NaN</td>\n",
       "    </tr>\n",
       "    <tr>\n",
       "      <th>25%</th>\n",
       "      <td>NaN</td>\n",
       "      <td>NaN</td>\n",
       "      <td>NaN</td>\n",
       "      <td>NaN</td>\n",
       "      <td>NaN</td>\n",
       "      <td>2.000000</td>\n",
       "      <td>NaN</td>\n",
       "    </tr>\n",
       "    <tr>\n",
       "      <th>50%</th>\n",
       "      <td>NaN</td>\n",
       "      <td>NaN</td>\n",
       "      <td>NaN</td>\n",
       "      <td>NaN</td>\n",
       "      <td>NaN</td>\n",
       "      <td>3.100000</td>\n",
       "      <td>NaN</td>\n",
       "    </tr>\n",
       "    <tr>\n",
       "      <th>75%</th>\n",
       "      <td>NaN</td>\n",
       "      <td>NaN</td>\n",
       "      <td>NaN</td>\n",
       "      <td>NaN</td>\n",
       "      <td>NaN</td>\n",
       "      <td>4.100000</td>\n",
       "      <td>NaN</td>\n",
       "    </tr>\n",
       "    <tr>\n",
       "      <th>max</th>\n",
       "      <td>NaN</td>\n",
       "      <td>NaN</td>\n",
       "      <td>NaN</td>\n",
       "      <td>NaN</td>\n",
       "      <td>NaN</td>\n",
       "      <td>5.000000</td>\n",
       "      <td>NaN</td>\n",
       "    </tr>\n",
       "  </tbody>\n",
       "</table>\n",
       "</div>"
      ],
      "text/plain": [
       "       Product Product_Brand Item_Category     Subcategory_1 Subcategory_2  \\\n",
       "count     1051          1051          1051              1051          1051   \n",
       "unique    1051           494            47                93           194   \n",
       "top     P-7564        B-3078      clothing  women s clothing  western wear   \n",
       "freq         1           317           320               219           117   \n",
       "mean       NaN           NaN           NaN               NaN           NaN   \n",
       "std        NaN           NaN           NaN               NaN           NaN   \n",
       "min        NaN           NaN           NaN               NaN           NaN   \n",
       "25%        NaN           NaN           NaN               NaN           NaN   \n",
       "50%        NaN           NaN           NaN               NaN           NaN   \n",
       "75%        NaN           NaN           NaN               NaN           NaN   \n",
       "max        NaN           NaN           NaN               NaN           NaN   \n",
       "\n",
       "        Item_Rating       Date  \n",
       "count   1051.000000       1051  \n",
       "unique          NaN        318  \n",
       "top             NaN  1/12/2018  \n",
       "freq            NaN         37  \n",
       "mean       3.074025        NaN  \n",
       "std        1.210880        NaN  \n",
       "min        1.000000        NaN  \n",
       "25%        2.000000        NaN  \n",
       "50%        3.100000        NaN  \n",
       "75%        4.100000        NaN  \n",
       "max        5.000000        NaN  "
      ]
     },
     "execution_count": 3111,
     "metadata": {},
     "output_type": "execute_result"
    }
   ],
   "source": [
    "test.describe(include = ['O','I','float'])"
   ]
  },
  {
   "cell_type": "code",
   "execution_count": 3112,
   "metadata": {},
   "outputs": [
    {
     "data": {
      "text/html": [
       "<div>\n",
       "<style scoped>\n",
       "    .dataframe tbody tr th:only-of-type {\n",
       "        vertical-align: middle;\n",
       "    }\n",
       "\n",
       "    .dataframe tbody tr th {\n",
       "        vertical-align: top;\n",
       "    }\n",
       "\n",
       "    .dataframe thead th {\n",
       "        text-align: right;\n",
       "    }\n",
       "</style>\n",
       "<table border=\"1\" class=\"dataframe\">\n",
       "  <thead>\n",
       "    <tr style=\"text-align: right;\">\n",
       "      <th></th>\n",
       "      <th>Product</th>\n",
       "      <th>Product_Brand</th>\n",
       "      <th>Item_Category</th>\n",
       "      <th>Subcategory_1</th>\n",
       "      <th>Subcategory_2</th>\n",
       "      <th>Item_Rating</th>\n",
       "      <th>Date</th>\n",
       "      <th>Selling_Price</th>\n",
       "    </tr>\n",
       "  </thead>\n",
       "  <tbody>\n",
       "    <tr>\n",
       "      <th>0</th>\n",
       "      <td>P-2610</td>\n",
       "      <td>B-659</td>\n",
       "      <td>bags wallets belts</td>\n",
       "      <td>bags</td>\n",
       "      <td>hand bags</td>\n",
       "      <td>4.3</td>\n",
       "      <td>2/3/2017</td>\n",
       "      <td>291.0</td>\n",
       "    </tr>\n",
       "    <tr>\n",
       "      <th>1</th>\n",
       "      <td>P-2453</td>\n",
       "      <td>B-3078</td>\n",
       "      <td>clothing</td>\n",
       "      <td>women s clothing</td>\n",
       "      <td>western wear</td>\n",
       "      <td>3.1</td>\n",
       "      <td>7/1/2015</td>\n",
       "      <td>897.0</td>\n",
       "    </tr>\n",
       "    <tr>\n",
       "      <th>2</th>\n",
       "      <td>P-6802</td>\n",
       "      <td>B-1810</td>\n",
       "      <td>home decor festive needs</td>\n",
       "      <td>showpieces</td>\n",
       "      <td>ethnic</td>\n",
       "      <td>3.5</td>\n",
       "      <td>1/12/2019</td>\n",
       "      <td>792.0</td>\n",
       "    </tr>\n",
       "    <tr>\n",
       "      <th>3</th>\n",
       "      <td>P-4452</td>\n",
       "      <td>B-3078</td>\n",
       "      <td>beauty and personal care</td>\n",
       "      <td>eye care</td>\n",
       "      <td>h2o plus eye care</td>\n",
       "      <td>4.0</td>\n",
       "      <td>12/12/2014</td>\n",
       "      <td>837.0</td>\n",
       "    </tr>\n",
       "    <tr>\n",
       "      <th>4</th>\n",
       "      <td>P-8454</td>\n",
       "      <td>B-3078</td>\n",
       "      <td>clothing</td>\n",
       "      <td>men s clothing</td>\n",
       "      <td>t shirts</td>\n",
       "      <td>4.3</td>\n",
       "      <td>12/12/2013</td>\n",
       "      <td>470.0</td>\n",
       "    </tr>\n",
       "  </tbody>\n",
       "</table>\n",
       "</div>"
      ],
      "text/plain": [
       "  Product Product_Brand             Item_Category     Subcategory_1  \\\n",
       "0  P-2610         B-659        bags wallets belts              bags   \n",
       "1  P-2453        B-3078                  clothing  women s clothing   \n",
       "2  P-6802        B-1810  home decor festive needs        showpieces   \n",
       "3  P-4452        B-3078  beauty and personal care          eye care   \n",
       "4  P-8454        B-3078                  clothing    men s clothing   \n",
       "\n",
       "       Subcategory_2  Item_Rating        Date  Selling_Price  \n",
       "0          hand bags          4.3    2/3/2017          291.0  \n",
       "1       western wear          3.1    7/1/2015          897.0  \n",
       "2             ethnic          3.5   1/12/2019          792.0  \n",
       "3  h2o plus eye care          4.0  12/12/2014          837.0  \n",
       "4           t shirts          4.3  12/12/2013          470.0  "
      ]
     },
     "execution_count": 3112,
     "metadata": {},
     "output_type": "execute_result"
    }
   ],
   "source": [
    "train.head()"
   ]
  },
  {
   "cell_type": "code",
   "execution_count": 3113,
   "metadata": {},
   "outputs": [
    {
     "data": {
      "text/plain": [
       "(41, 41)"
      ]
     },
     "execution_count": 3113,
     "metadata": {},
     "output_type": "execute_result"
    }
   ],
   "source": [
    "test.Item_Rating.nunique(), train.Item_Rating.nunique()"
   ]
  },
  {
   "cell_type": "code",
   "execution_count": 3114,
   "metadata": {},
   "outputs": [
    {
     "data": {
      "text/plain": [
       "(819, 303)"
      ]
     },
     "execution_count": 3114,
     "metadata": {},
     "output_type": "execute_result"
    }
   ],
   "source": [
    "len(set(train.Product_Brand).difference(set(test.Product_Brand))),len(set(test.Product_Brand).difference(set(train.Product_Brand)))"
   ]
  },
  {
   "cell_type": "code",
   "execution_count": 3115,
   "metadata": {},
   "outputs": [
    {
     "data": {
      "text/plain": [
       "<matplotlib.axes._subplots.AxesSubplot at 0x20040b1b908>"
      ]
     },
     "execution_count": 3115,
     "metadata": {},
     "output_type": "execute_result"
    },
    {
     "data": {
      "image/png": "[encoded data removed]",
      "text/plain": [
       "<Figure size 432x288 with 1 Axes>"
      ]
     },
     "metadata": {
      "needs_background": "light"
     },
     "output_type": "display_data"
    }
   ],
   "source": [
    "sns.scatterplot((train.Item_Rating), train.Selling_Price)"
   ]
  },
  {
   "cell_type": "code",
   "execution_count": 3116,
   "metadata": {},
   "outputs": [
    {
     "data": {
      "text/plain": [
       "<matplotlib.axes._subplots.AxesSubplot at 0x200494bc0f0>"
      ]
     },
     "execution_count": 3116,
     "metadata": {},
     "output_type": "execute_result"
    },
    {
     "data": {
      "image/png": "[encoded data removed]",
      "text/plain": [
       "<Figure size 432x288 with 1 Axes>"
      ]
     },
     "metadata": {
      "needs_background": "light"
     },
     "output_type": "display_data"
    }
   ],
   "source": [
    "sns.distplot(np.log(train.Item_Rating))"
   ]
  },
  {
   "cell_type": "markdown",
   "metadata": {},
   "source": [
    "# Date"
   ]
  },
  {
   "cell_type": "code",
   "execution_count": 3117,
   "metadata": {},
   "outputs": [],
   "source": [
    "train['Date']=pd.to_datetime(train.Date)\n",
    "test['Date']=pd.to_datetime(test.Date)\n",
    "\n",
    "train['Month']=train.Date.dt.month\n",
    "train['Year']=train.Date.dt.year\n",
    "train['Week']=train.Date.dt.week\n",
    "train['Day']=train.Date.dt.day\n",
    "train['Quarter']=train.Date.dt.quarter\n",
    "train['dayofyear']=train.Date.dt.dayofyear\n",
    "train['month_start']=train.Date.dt.is_month_start\n",
    "train['month_end']=train.Date.dt.is_month_end\n",
    "train['quarter_start']=train.Date.dt.is_quarter_start\n",
    "train['quarter_end']=train.Date.dt.is_quarter_start\n",
    "train['weekofyear']=train.Date.dt.weekofyear\n",
    "train['weekday']=train.Date.dt.weekday\n",
    "\n",
    "\n",
    "test['Month']=test.Date.dt.month\n",
    "test['Year']=test.Date.dt.year\n",
    "test['Week']=test.Date.dt.week\n",
    "test['Day']=test.Date.dt.day\n",
    "test['Quarter']=test.Date.dt.quarter\n",
    "test['dayofyear']=test.Date.dt.dayofyear\n",
    "test['month_start']=test.Date.dt.is_month_start\n",
    "test['month_end']=test.Date.dt.is_month_end\n",
    "test['quarter_start']=test.Date.dt.is_quarter_start\n",
    "test['quarter_end']=test.Date.dt.is_quarter_start\n",
    "test['weekofyear']=test.Date.dt.weekofyear\n",
    "test['weekday']=test.Date.dt.weekday\n"
   ]
  },
  {
   "cell_type": "code",
   "execution_count": 3118,
   "metadata": {},
   "outputs": [
    {
     "data": {
      "text/plain": [
       "(5.538615617390771, 45.31375794252488)"
      ]
     },
     "execution_count": 3118,
     "metadata": {},
     "output_type": "execute_result"
    }
   ],
   "source": [
    "train.Selling_Price.skew(), train.Selling_Price.kurt()"
   ]
  },
  {
   "cell_type": "code",
   "execution_count": 3119,
   "metadata": {},
   "outputs": [],
   "source": [
    "train.Selling_Price = np.log(train.Selling_Price)"
   ]
  },
  {
   "cell_type": "code",
   "execution_count": 3120,
   "metadata": {},
   "outputs": [
    {
     "name": "stdout",
     "output_type": "stream",
     "text": [
      "Int64Index([  15,   47,   48,   64,   98,  221,  227,  261,  263,  305,  325,\n",
      "             420,  532,  546,  548,  551,  576,  613,  697,  712,  825,  900,\n",
      "             934,  973, 1019, 1165, 1193, 1308, 1364, 1393, 1416, 1418, 1423,\n",
      "            1453, 1502, 1565, 1567, 1583, 1657, 1668, 1693, 1701, 1723, 1748,\n",
      "            1793, 1850, 1875, 1917, 2128, 2158, 2168, 2295, 2316, 2330, 2355,\n",
      "            2368, 2399, 2431, 2440],\n",
      "           dtype='int64')\n"
     ]
    }
   ],
   "source": [
    "q1 = train.Selling_Price.quantile(0.25)\n",
    "q3 = train.Selling_Price.quantile(0.75)\n",
    "iqr = q3-q1\n",
    "upper = q3 + 2.7* iqr\n",
    "lower = q1 - 2.6* iqr\n",
    "\n",
    "d = train[train.Selling_Price >upper].index\n",
    "print(d)\n",
    "#train.drop(index = d, inplace = True)\n",
    "#train.reset_index(drop = True, inplace = True)\n",
    "#np.where(train.Selling_Price < lower)"
   ]
  },
  {
   "cell_type": "code",
   "execution_count": 3121,
   "metadata": {},
   "outputs": [
    {
     "data": {
      "text/plain": [
       "((2452, 20), (1051, 19))"
      ]
     },
     "execution_count": 3121,
     "metadata": {},
     "output_type": "execute_result"
    }
   ],
   "source": [
    "train.shape , test.shape"
   ]
  },
  {
   "cell_type": "code",
   "execution_count": 3122,
   "metadata": {},
   "outputs": [
    {
     "data": {
      "text/plain": [
       "<matplotlib.axes._subplots.AxesSubplot at 0x20040f57d68>"
      ]
     },
     "execution_count": 3122,
     "metadata": {},
     "output_type": "execute_result"
    },
    {
     "data": {
      "image/png": "[encoded data removed]",
      "text/plain": [
       "<Figure size 432x288 with 1 Axes>"
      ]
     },
     "metadata": {
      "needs_background": "light"
     },
     "output_type": "display_data"
    }
   ],
   "source": [
    "sns.distplot(train.Selling_Price)"
   ]
  },
  {
   "cell_type": "code",
   "execution_count": 3123,
   "metadata": {},
   "outputs": [
    {
     "name": "stdout",
     "output_type": "stream",
     "text": [
      "<class 'pandas.core.frame.DataFrame'>\n",
      "RangeIndex: 2452 entries, 0 to 2451\n",
      "Data columns (total 20 columns):\n",
      "Product          2452 non-null object\n",
      "Product_Brand    2452 non-null object\n",
      "Item_Category    2452 non-null object\n",
      "Subcategory_1    2452 non-null object\n",
      "Subcategory_2    2452 non-null object\n",
      "Item_Rating      2452 non-null float64\n",
      "Date             2452 non-null datetime64[ns]\n",
      "Selling_Price    2452 non-null float64\n",
      "Month            2452 non-null int64\n",
      "Year             2452 non-null int64\n",
      "Week             2452 non-null int64\n",
      "Day              2452 non-null int64\n",
      "Quarter          2452 non-null int64\n",
      "dayofyear        2452 non-null int64\n",
      "month_start      2452 non-null bool\n",
      "month_end        2452 non-null bool\n",
      "quarter_start    2452 non-null bool\n",
      "quarter_end      2452 non-null bool\n",
      "weekofyear       2452 non-null int64\n",
      "weekday          2452 non-null int64\n",
      "dtypes: bool(4), datetime64[ns](1), float64(2), int64(8), object(5)\n",
      "memory usage: 316.2+ KB\n"
     ]
    }
   ],
   "source": [
    "train.info()"
   ]
  },
  {
   "cell_type": "markdown",
   "metadata": {},
   "source": [
    "# Product"
   ]
  },
  {
   "cell_type": "code",
   "execution_count": 3124,
   "metadata": {},
   "outputs": [],
   "source": [
    "#train['Product'] = train.Product.str.extract(r'(.*)-(.*)')[1].astype('int')\n",
    "#test['Product'] = test.Product.str.extract(r'(.*)-(.*)')[1].astype('int')"
   ]
  },
  {
   "cell_type": "markdown",
   "metadata": {},
   "source": [
    "# Product Brand"
   ]
  },
  {
   "cell_type": "code",
   "execution_count": 3125,
   "metadata": {},
   "outputs": [],
   "source": [
    "#train.groupby(['Product_Brand', 'Item_Category', 'Subcategory_1', 'Subcategory_2'])['Selling_Price'].value_counts()[:10]"
   ]
  },
  {
   "cell_type": "code",
   "execution_count": 3126,
   "metadata": {},
   "outputs": [],
   "source": [
    "from sklearn.feature_extraction.text import TfidfVectorizer, CountVectorizer\n",
    "tfidf = TfidfVectorizer(ngram_range=(1,1), lowercase = True, stop_words='english', analyzer = 'word', max_features=200)#char\n",
    "sparse_brand = pd.DataFrame(tfidf.fit_transform(pd.concat([train.Product_Brand, test.Product_Brand], axis = 0)).toarray(), \n",
    "                            columns = [a for a in range(200)])\n",
    "sparse_brand_train = sparse_brand.iloc[:train.shape[0]]\n",
    "sparse_brand_test = sparse_brand.iloc[train.shape[0]:]"
   ]
  },
  {
   "cell_type": "code",
   "execution_count": 3127,
   "metadata": {},
   "outputs": [],
   "source": [
    "tr = set(train.Product_Brand).difference(set(test.Product_Brand))\n",
    "te = set(test.Product_Brand).difference(set(train.Product_Brand))\n",
    "\n",
    "train.Product_Brand = train.Product_Brand.apply(lambda x: 'other' if x in tr else x)\n",
    "test.Product_Brand = test.Product_Brand.apply(lambda x: 'other' if x in te else x)"
   ]
  },
  {
   "cell_type": "code",
   "execution_count": 3128,
   "metadata": {},
   "outputs": [],
   "source": [
    "train = pd.concat([train,sparse_brand_train],axis=1)\n",
    "test = pd.concat([test,sparse_brand_test.reset_index(drop=True)],axis=1)"
   ]
  },
  {
   "cell_type": "code",
   "execution_count": 3129,
   "metadata": {},
   "outputs": [],
   "source": [
    "#le=LabelEncoder()\n",
    "#train.Product_Brand = pd.DataFrame(le.fit_transform(train.Product_Brand),columns=['Product_Brand'])\n",
    "#test.Product_Brand = pd.DataFrame(le.transform(test.Product_Brand),columns=['Product_Brand'])"
   ]
  },
  {
   "cell_type": "code",
   "execution_count": 3130,
   "metadata": {},
   "outputs": [
    {
     "data": {
      "text/plain": [
       "(75, 47)"
      ]
     },
     "execution_count": 3130,
     "metadata": {},
     "output_type": "execute_result"
    }
   ],
   "source": [
    "train.Item_Category.nunique() , test.Item_Category.nunique()"
   ]
  },
  {
   "cell_type": "markdown",
   "metadata": {},
   "source": [
    "# Category"
   ]
  },
  {
   "cell_type": "code",
   "execution_count": 3131,
   "metadata": {},
   "outputs": [],
   "source": [
    "from sklearn.feature_extraction.text import TfidfVectorizer\n",
    "tfidf = TfidfVectorizer(ngram_range=(1,1), lowercase = True, stop_words='english', analyzer = 'word', max_features=200)#char\n",
    "sparse_brand = pd.DataFrame(tfidf.fit_transform(pd.concat([train.Item_Category, test.Item_Category], axis = 0)).toarray(), \n",
    "                            columns = [a for a in range(200,400)])\n",
    "sparse_brand_train = sparse_brand.iloc[:train.shape[0]]\n",
    "sparse_brand_test = sparse_brand.iloc[train.shape[0]:]\n",
    "\n",
    "train = pd.concat([train,sparse_brand_train],axis=1)\n",
    "test = pd.concat([test,sparse_brand_test.reset_index(drop=True)],axis=1)"
   ]
  },
  {
   "cell_type": "code",
   "execution_count": 3132,
   "metadata": {},
   "outputs": [],
   "source": [
    "train.Item_Category=train.Item_Category.apply(lambda x: 'clothing' if re.search('jean|blazer|stole|kurta|legging|bra|sari|capri|shirt|sock|jumpsuit|polo|jacket|boxer|lilliput|trouser|sleeve',x) else x)\n",
    "train.Item_Category=train.Item_Category.apply(lambda x: 'footwear' if re.search('flat|adidas|shoe|boot',x) else x)\n",
    "train.Item_Category=train.Item_Category.apply(lambda x: 'eyewear' if re.search('sunglass|eyewear',x) else x)\n",
    "train.Item_Category=train.Item_Category.apply(lambda x: 'accessories' if re.search('access|headset|dryer|binocular',x) else x)\n",
    "train.Item_Category=train.Item_Category.apply(lambda x: 'care' if re.search('care',x) else x)\n",
    "train.Item_Category=train.Item_Category.apply(lambda x: 'pen' if re.search('pen',x) else x)\n",
    "train.Item_Category=train.Item_Category.apply(lambda x: 'kitchen' if re.search('kitchen',x) else x)\n",
    "\n",
    "test.Item_Category=test.Item_Category.apply(lambda x: 'clothing' if re.search('jean|blazer|stole|kurta|legging|bra|sari|capri|shirt|sock|jumpsuit|polo|jacket|boxer|lilliput|trouser|sleeve',x) else x)\n",
    "test.Item_Category=test.Item_Category.apply(lambda x: 'footwear' if re.search('flat|adidas|shoe|boot',x) else x)\n",
    "test.Item_Category=test.Item_Category.apply(lambda x: 'eyewear' if re.search('sunglass|eyewear',x) else x)\n",
    "test.Item_Category=test.Item_Category.apply(lambda x: 'accessories' if re.search('access|headset|dryer|binocular',x) else x)\n",
    "test.Item_Category=test.Item_Category.apply(lambda x: 'care' if re.search('care',x) else x)\n",
    "test.Item_Category=test.Item_Category.apply(lambda x: 'pen' if re.search('pen',x) else x)\n",
    "test.Item_Category=test.Item_Category.apply(lambda x: 'kitchen' if re.search('kitchen',x) else x)"
   ]
  },
  {
   "cell_type": "code",
   "execution_count": 3133,
   "metadata": {},
   "outputs": [],
   "source": [
    "tr = set(train.Item_Category).difference(set(test.Item_Category))\n",
    "te = set(test.Item_Category).difference(set(train.Item_Category))\n",
    "\n",
    "train.Item_Category = train.Item_Category.apply(lambda x: 'other' if x in tr else x)\n",
    "test.Item_Category = test.Item_Category.apply(lambda x: 'other' if x in te else x)"
   ]
  },
  {
   "cell_type": "code",
   "execution_count": 3134,
   "metadata": {},
   "outputs": [
    {
     "data": {
      "text/plain": [
       "23"
      ]
     },
     "execution_count": 3134,
     "metadata": {},
     "output_type": "execute_result"
    }
   ],
   "source": [
    "test.Item_Category.nunique()"
   ]
  },
  {
   "cell_type": "code",
   "execution_count": 3135,
   "metadata": {},
   "outputs": [],
   "source": [
    "#le=LabelEncoder()\n",
    "#train.Item_Category = pd.DataFrame(le.fit_transform(train.Item_Category),columns=['Item_Category'])\n",
    "#test.Item_Category = pd.DataFrame(le.transform(test.Item_Category),columns=['Item_Category'])"
   ]
  },
  {
   "cell_type": "markdown",
   "metadata": {},
   "source": [
    "# Subcategory_1"
   ]
  },
  {
   "cell_type": "code",
   "execution_count": 3136,
   "metadata": {},
   "outputs": [],
   "source": [
    "from sklearn.feature_extraction.text import TfidfVectorizer\n",
    "tfidf = TfidfVectorizer(ngram_range=(1,1), lowercase= True, stop_words='english', analyzer = 'word', max_features=200)#char\n",
    "sparse_brand = pd.DataFrame(tfidf.fit_transform(pd.concat([train.Subcategory_1, test.Subcategory_1], axis = 0)).toarray(), \n",
    "                            columns = [a for a in range(400,600)])\n",
    "sparse_brand_train = sparse_brand.iloc[:train.shape[0]]\n",
    "sparse_brand_test = sparse_brand.iloc[train.shape[0]:]\n",
    "\n",
    "train = pd.concat([train,sparse_brand_train],axis=1)\n",
    "test = pd.concat([test,sparse_brand_test.reset_index(drop=True)],axis=1)"
   ]
  },
  {
   "cell_type": "code",
   "execution_count": 3137,
   "metadata": {},
   "outputs": [],
   "source": [
    "train.Subcategory_1=train.Subcategory_1.apply(lambda x: 'eyewear' if re.search('sunglass|eyewear|lens|eye|spec',x) else x)\n",
    "train.Subcategory_1=train.Subcategory_1.apply(lambda x: 'furniture' if re.search('furniture|furnishing',x) else x)\n",
    "train.Subcategory_1=train.Subcategory_1.apply(lambda x: 'toy' if re.search('toy',x) else x)\n",
    "train.Subcategory_1=train.Subcategory_1.apply(lambda x: 'appliance' if re.search('appliance|audio|computer|electric',x) else x)\n",
    "train.Subcategory_1=train.Subcategory_1.apply(lambda x: 'accessories' if re.search('accessories|component',x) else x)\n",
    "train.Subcategory_1=train.Subcategory_1.apply(lambda x: 'ring' if re.search('ring|component',x) else x)\n",
    "train.Subcategory_1=train.Subcategory_1.apply(lambda x: 'jewellery' if re.search('jewellery|earring|mangal',x) else x)\n",
    "train.Subcategory_1=train.Subcategory_1.apply(lambda x: 'accessories' if re.search('accessories|component',x) else x)\n",
    "\n",
    "\n",
    "test.Subcategory_1=test.Subcategory_1.apply(lambda x: 'eyewear' if re.search('sunglass|eyewear|lens|eye|spec',x) else x)\n",
    "test.Subcategory_1=test.Subcategory_1.apply(lambda x: 'furniture' if re.search('furniture|furnishing',x) else x)\n",
    "test.Subcategory_1=test.Subcategory_1.apply(lambda x: 'toy' if re.search('toy',x) else x)\n",
    "test.Subcategory_1=test.Subcategory_1.apply(lambda x: 'appliance' if re.search('appliance|audio|computer|electric',x) else x)\n",
    "test.Subcategory_1=test.Subcategory_1.apply(lambda x: 'accessories' if re.search('accessories|component',x) else x)\n",
    "test.Subcategory_1=test.Subcategory_1.apply(lambda x: 'ring' if re.search('ring|component',x) else x)\n",
    "test.Subcategory_1=test.Subcategory_1.apply(lambda x: 'jewellery' if re.search('jewellery|earring|mangal',x) else x)\n",
    "test.Subcategory_1=test.Subcategory_1.apply(lambda x: 'accessories' if re.search('accessories|component',x) else x)"
   ]
  },
  {
   "cell_type": "code",
   "execution_count": 3138,
   "metadata": {},
   "outputs": [],
   "source": [
    "t1=set(train.Subcategory_1).difference(set(test.Subcategory_1))\n",
    "t2=set(test.Subcategory_1).difference(set(train.Subcategory_1))\n",
    "\n",
    "train.Subcategory_1=train.Subcategory_1.apply(lambda x : 'other' if x in t1 else x )\n",
    "test.Subcategory_1=test.Subcategory_1.apply(lambda x : 'other' if x in t2 else x )"
   ]
  },
  {
   "cell_type": "code",
   "execution_count": 3139,
   "metadata": {},
   "outputs": [
    {
     "data": {
      "text/plain": [
       "160"
      ]
     },
     "execution_count": 3139,
     "metadata": {},
     "output_type": "execute_result"
    }
   ],
   "source": [
    "67+93"
   ]
  },
  {
   "cell_type": "code",
   "execution_count": 3140,
   "metadata": {},
   "outputs": [],
   "source": [
    "#le=LabelEncoder()\n",
    "#train.Subcategory_1=pd.DataFrame(le.fit_transform(train.Subcategory_1),columns=['Subcategory_1'])\n",
    "#test.Subcategory_1=pd.DataFrame(le.transform(test.Subcategory_1),columns=['Subcategory_1'])"
   ]
  },
  {
   "cell_type": "markdown",
   "metadata": {},
   "source": [
    "# Subcategory 2"
   ]
  },
  {
   "cell_type": "code",
   "execution_count": 3141,
   "metadata": {},
   "outputs": [],
   "source": [
    "from sklearn.feature_extraction.text import TfidfVectorizer\n",
    "tfidf = TfidfVectorizer(ngram_range=(1,1), lowercase=True, stop_words='english', analyzer = 'word', max_features=200)#char\n",
    "sparse_brand = pd.DataFrame(tfidf.fit_transform(pd.concat([train.Subcategory_2, test.Subcategory_2], axis = 0)).toarray(), \n",
    "                            columns = [a for a in range(600,800)])\n",
    "sparse_brand_train = sparse_brand.iloc[:train.shape[0]]\n",
    "sparse_brand_test = sparse_brand.iloc[train.shape[0]:]\n",
    "\n",
    "train = pd.concat([train,sparse_brand_train],axis=1)\n",
    "test = pd.concat([test,sparse_brand_test.reset_index(drop=True)],axis=1)"
   ]
  },
  {
   "cell_type": "code",
   "execution_count": 3142,
   "metadata": {},
   "outputs": [],
   "source": [
    "train.Subcategory_2=train.Subcategory_2.apply(lambda x: 'mug' if re.search('mug',x) else x)\n",
    "train.Subcategory_2=train.Subcategory_2.apply(lambda x: 'watch' if re.search('watch',x) else x)\n",
    "train.Subcategory_2=train.Subcategory_2.apply(lambda x: 'showpiece' if re.search('showpiece',x) else x)\n",
    "train.Subcategory_2=train.Subcategory_2.apply(lambda x: 'supply' if re.search('supplies',x) else x)\n",
    "train.Subcategory_2=train.Subcategory_2.apply(lambda x: 'batteries' if re.search('batter',x) else x)\n",
    "train.Subcategory_2=train.Subcategory_2.apply(lambda x: 'accessory' if re.search('accessories|access',x) else x)\n",
    "train.Subcategory_2=train.Subcategory_2.apply(lambda x: 'toys' if re.search('toy',x) else x)\n",
    "train.Subcategory_2=train.Subcategory_2.apply(lambda x: 'necklaces' if re.search('necklace|sutra|pendant',x) else x)\n",
    "train.Subcategory_2=train.Subcategory_2.apply(lambda x: 'clothing' if re.search('cloth|raincoat',x) else x)\n",
    "\n",
    "test.Subcategory_2=test.Subcategory_2.apply(lambda x: 'mug' if re.search('mug',x) else x)\n",
    "test.Subcategory_2=test.Subcategory_2.apply(lambda x: 'watch' if re.search('watch',x) else x)\n",
    "test.Subcategory_2=test.Subcategory_2.apply(lambda x: 'showpiece' if re.search('showpiece',x) else x)\n",
    "test.Subcategory_2=test.Subcategory_2.apply(lambda x: 'supply' if re.search('supplies',x) else x)\n",
    "test.Subcategory_2=test.Subcategory_2.apply(lambda x: 'batteries' if re.search('batter',x) else x)\n",
    "test.Subcategory_2=test.Subcategory_2.apply(lambda x: 'accessory' if re.search('accessories|access',x) else x)\n",
    "test.Subcategory_2=test.Subcategory_2.apply(lambda x: 'toys' if re.search('toy',x) else x)\n",
    "test.Subcategory_2=test.Subcategory_2.apply(lambda x: 'necklaces' if re.search('necklace|sutra|pendant',x) else x)\n",
    "test.Subcategory_2=test.Subcategory_2.apply(lambda x: 'clothing' if re.search('cloth|raincoat',x) else x)"
   ]
  },
  {
   "cell_type": "code",
   "execution_count": 3143,
   "metadata": {},
   "outputs": [],
   "source": [
    "t1=set(train.Subcategory_2).difference(set(test.Subcategory_2))\n",
    "t2=set(test.Subcategory_2).difference(set(train.Subcategory_2))\n",
    "\n",
    "train.Subcategory_2=train.Subcategory_2.apply(lambda x: 'other' if x in t1 else x)\n",
    "test.Subcategory_2=test.Subcategory_2.apply(lambda x: 'other' if x in t2 else x)"
   ]
  },
  {
   "cell_type": "code",
   "execution_count": 3144,
   "metadata": {},
   "outputs": [],
   "source": [
    "#le=LabelEncoder()\n",
    "#train.Subcategory_2 = pd.DataFrame(le.fit_transform(train.Subcategory_2),columns=['Subcategory_2'])\n",
    "#test.Subcategory_2 = pd.DataFrame(le.transform(test.Subcategory_2),columns=['Subcategory_2'])"
   ]
  },
  {
   "cell_type": "code",
   "execution_count": 3145,
   "metadata": {},
   "outputs": [],
   "source": [
    "train=pd.concat([train,pd.get_dummies(train[['Year','Month','Quarter']].astype('category'))],axis=1)\n",
    "test=pd.concat([test,pd.get_dummies(test[['Year','Month','Quarter']].astype('category'))],axis=1)"
   ]
  },
  {
   "cell_type": "code",
   "execution_count": 3146,
   "metadata": {},
   "outputs": [],
   "source": [
    "train.drop(columns=['Product','Date','Item_Category','Quarter','Subcategory_1','Subcategory_2','Product_Brand','Month','Year'],inplace=True)\n",
    "test.drop(columns=['Product','Date','Item_Category','Quarter','Subcategory_1','Subcategory_2','Product_Brand','Month','Year'],inplace=True)"
   ]
  },
  {
   "cell_type": "code",
   "execution_count": 3147,
   "metadata": {},
   "outputs": [],
   "source": [
    "label =train['Selling_Price']\n",
    "train.drop(columns=['Selling_Price'],inplace=True)"
   ]
  },
  {
   "cell_type": "code",
   "execution_count": 3148,
   "metadata": {},
   "outputs": [
    {
     "data": {
      "text/plain": [
       "((2452, 835), (1051, 835))"
      ]
     },
     "execution_count": 3148,
     "metadata": {},
     "output_type": "execute_result"
    }
   ],
   "source": [
    "train.shape,test.shape"
   ]
  },
  {
   "cell_type": "code",
   "execution_count": 3149,
   "metadata": {},
   "outputs": [],
   "source": [
    "import tqdm\n",
    "trpred=[]\n",
    "tepred=[]\n",
    "def model(m,train,label,test,rnd_st,col):\n",
    "    df=pd.DataFrame(np.zeros(shape=(test.shape[0],col)))\n",
    "    splits = KFold(n_splits=col,random_state=rnd_st, shuffle=True)\n",
    "    for i,(tr_index,te_index) in tqdm.tqdm(enumerate(splits.split(train,label))):\n",
    "        xtrain,xtest = train.loc[tr_index,:], train.loc[te_index,:]\n",
    "        ytrain,ytest = label.loc[tr_index], label.loc[te_index]\n",
    "    \n",
    "        m.fit(xtrain,ytrain)\n",
    "        ytrpred=m.predict(xtrain)\n",
    "        ypred = m.predict(xtest)\n",
    "        #print(ytrpred.shape,ypred.shape)\n",
    "        trpred.append(np.sqrt(mean_squared_error(ytrain,ytrpred)))\n",
    "        tepred.append(np.sqrt(mean_squared_error(ytest,ypred)))\n",
    "        df.iloc[:,i] = m.predict(test)\n",
    "       # print('Training loss : {}    ,   Testing loss : {}'.format(np.sqrt(mean_squared_error(ytrain,ytrpred)),np.sqrt(mean_squared_error(ytest,ypred)))) \n",
    "    print(np.mean(trpred),np.mean(tepred))\n",
    "    return(df)"
   ]
  },
  {
   "cell_type": "code",
   "execution_count": 3150,
   "metadata": {},
   "outputs": [
    {
     "name": "stderr",
     "output_type": "stream",
     "text": [
      "10it [03:47, 22.75s/it]"
     ]
    },
    {
     "name": "stdout",
     "output_type": "stream",
     "text": [
      "0.2529763703117698 0.656970714937672\n"
     ]
    },
    {
     "name": "stderr",
     "output_type": "stream",
     "text": [
      "\n"
     ]
    }
   ],
   "source": [
    "rnd_pred = model(RandomForestRegressor(random_state=123),train,label,test,2394,10)"
   ]
  },
  {
   "cell_type": "code",
   "execution_count": null,
   "metadata": {},
   "outputs": [],
   "source": [
    "model(AdaBoostRegressor(random_state=10913),train,label,test,9008,10).head()"
   ]
  },
  {
   "cell_type": "code",
   "execution_count": 3077,
   "metadata": {},
   "outputs": [
    {
     "name": "stderr",
     "output_type": "stream",
     "text": [
      "10it [00:57,  5.70s/it]"
     ]
    },
    {
     "name": "stdout",
     "output_type": "stream",
     "text": [
      "0.5123862086740377 0.6875339259804805\n"
     ]
    },
    {
     "name": "stderr",
     "output_type": "stream",
     "text": [
      "\n"
     ]
    }
   ],
   "source": [
    "p = model(GradientBoostingRegressor(random_state=123),train,label,test,123,10)"
   ]
  },
  {
   "cell_type": "code",
   "execution_count": null,
   "metadata": {},
   "outputs": [],
   "source": [
    "model(xgb.XGBRegressor(random_state=91),train,label,test,2991,10).head()"
   ]
  },
  {
   "cell_type": "code",
   "execution_count": null,
   "metadata": {},
   "outputs": [],
   "source": [
    "model(ExtraTreesRegressor(random_state=568009),train,label,test,334341,10).head()"
   ]
  },
  {
   "cell_type": "code",
   "execution_count": 3071,
   "metadata": {},
   "outputs": [
    {
     "name": "stderr",
     "output_type": "stream",
     "text": [
      "10it [00:17,  1.75s/it]"
     ]
    },
    {
     "name": "stdout",
     "output_type": "stream",
     "text": [
      "0.49412534493040516 0.6877757506151686\n"
     ]
    },
    {
     "name": "stderr",
     "output_type": "stream",
     "text": [
      "\n"
     ]
    }
   ],
   "source": [
    "p  = model(lgb.LGBMRegressor(random_state=3707),train,label,test,43190,10).head()"
   ]
  },
  {
   "cell_type": "code",
   "execution_count": 3060,
   "metadata": {},
   "outputs": [
    {
     "name": "stderr",
     "output_type": "stream",
     "text": [
      "\r",
      "0it [00:00, ?it/s]"
     ]
    },
    {
     "name": "stdout",
     "output_type": "stream",
     "text": [
      "[03:28:13] WARNING: src/objective/regression_obj.cu:152: reg:linear is now deprecated in favor of reg:squarederror.\n"
     ]
    },
    {
     "name": "stderr",
     "output_type": "stream",
     "text": [
      "\r",
      "1it [00:06,  6.26s/it]"
     ]
    },
    {
     "name": "stdout",
     "output_type": "stream",
     "text": [
      "[03:28:19] WARNING: src/objective/regression_obj.cu:152: reg:linear is now deprecated in favor of reg:squarederror.\n"
     ]
    },
    {
     "name": "stderr",
     "output_type": "stream",
     "text": [
      "\r",
      "2it [00:12,  6.28s/it]"
     ]
    },
    {
     "name": "stdout",
     "output_type": "stream",
     "text": [
      "[03:28:26] WARNING: src/objective/regression_obj.cu:152: reg:linear is now deprecated in favor of reg:squarederror.\n"
     ]
    },
    {
     "name": "stderr",
     "output_type": "stream",
     "text": [
      "\r",
      "3it [00:19,  6.32s/it]"
     ]
    },
    {
     "name": "stdout",
     "output_type": "stream",
     "text": [
      "[03:28:32] WARNING: src/objective/regression_obj.cu:152: reg:linear is now deprecated in favor of reg:squarederror.\n"
     ]
    },
    {
     "name": "stderr",
     "output_type": "stream",
     "text": [
      "\r",
      "4it [00:25,  6.33s/it]"
     ]
    },
    {
     "name": "stdout",
     "output_type": "stream",
     "text": [
      "[03:28:38] WARNING: src/objective/regression_obj.cu:152: reg:linear is now deprecated in favor of reg:squarederror.\n"
     ]
    },
    {
     "name": "stderr",
     "output_type": "stream",
     "text": [
      "\r",
      "5it [00:31,  6.35s/it]"
     ]
    },
    {
     "name": "stdout",
     "output_type": "stream",
     "text": [
      "[03:28:45] WARNING: src/objective/regression_obj.cu:152: reg:linear is now deprecated in favor of reg:squarederror.\n"
     ]
    },
    {
     "name": "stderr",
     "output_type": "stream",
     "text": [
      "\r",
      "6it [00:38,  6.34s/it]"
     ]
    },
    {
     "name": "stdout",
     "output_type": "stream",
     "text": [
      "[03:28:51] WARNING: src/objective/regression_obj.cu:152: reg:linear is now deprecated in favor of reg:squarederror.\n"
     ]
    },
    {
     "name": "stderr",
     "output_type": "stream",
     "text": [
      "\r",
      "7it [00:44,  6.36s/it]"
     ]
    },
    {
     "name": "stdout",
     "output_type": "stream",
     "text": [
      "[03:28:58] WARNING: src/objective/regression_obj.cu:152: reg:linear is now deprecated in favor of reg:squarederror.\n"
     ]
    },
    {
     "name": "stderr",
     "output_type": "stream",
     "text": [
      "\r",
      "8it [00:50,  6.37s/it]"
     ]
    },
    {
     "name": "stdout",
     "output_type": "stream",
     "text": [
      "[03:29:04] WARNING: src/objective/regression_obj.cu:152: reg:linear is now deprecated in favor of reg:squarederror.\n"
     ]
    },
    {
     "name": "stderr",
     "output_type": "stream",
     "text": [
      "\r",
      "9it [00:57,  6.39s/it]"
     ]
    },
    {
     "name": "stdout",
     "output_type": "stream",
     "text": [
      "[03:29:10] WARNING: src/objective/regression_obj.cu:152: reg:linear is now deprecated in favor of reg:squarederror.\n"
     ]
    },
    {
     "name": "stderr",
     "output_type": "stream",
     "text": [
      "10it [01:03,  6.37s/it]"
     ]
    },
    {
     "name": "stdout",
     "output_type": "stream",
     "text": [
      "0.4554784258048076 0.6810306406344323\n"
     ]
    },
    {
     "name": "stderr",
     "output_type": "stream",
     "text": [
      "\n"
     ]
    }
   ],
   "source": [
    "predict=model(xgb.XGBRegressor(random_state=9020),train,label,test,66542,10)"
   ]
  },
  {
   "cell_type": "code",
   "execution_count": null,
   "metadata": {},
   "outputs": [],
   "source": [
    "predict_test=model(GradientBoostingRegressor(random_state=458128),train,label,test,9821122,10)"
   ]
  },
  {
   "cell_type": "code",
   "execution_count": null,
   "metadata": {},
   "outputs": [],
   "source": [
    "predict_test.head()"
   ]
  },
  {
   "cell_type": "code",
   "execution_count": 3151,
   "metadata": {},
   "outputs": [],
   "source": [
    "predict_test = np.mean(rnd_pred, axis = 1)"
   ]
  },
  {
   "cell_type": "code",
   "execution_count": 3152,
   "metadata": {},
   "outputs": [],
   "source": [
    "sample.Selling_Price = np.exp(predict_test)"
   ]
  },
  {
   "cell_type": "code",
   "execution_count": 3154,
   "metadata": {},
   "outputs": [],
   "source": [
    "sample.to_excel('RDnew_cleaned.xlsx',index=False)"
   ]
  },
  {
   "cell_type": "code",
   "execution_count": 3153,
   "metadata": {
    "scrolled": true
   },
   "outputs": [
    {
     "data": {
      "text/html": [
       "<div>\n",
       "<style scoped>\n",
       "    .dataframe tbody tr th:only-of-type {\n",
       "        vertical-align: middle;\n",
       "    }\n",
       "\n",
       "    .dataframe tbody tr th {\n",
       "        vertical-align: top;\n",
       "    }\n",
       "\n",
       "    .dataframe thead th {\n",
       "        text-align: right;\n",
       "    }\n",
       "</style>\n",
       "<table border=\"1\" class=\"dataframe\">\n",
       "  <thead>\n",
       "    <tr style=\"text-align: right;\">\n",
       "      <th></th>\n",
       "      <th>Selling_Price</th>\n",
       "    </tr>\n",
       "  </thead>\n",
       "  <tbody>\n",
       "    <tr>\n",
       "      <th>0</th>\n",
       "      <td>4496.707387</td>\n",
       "    </tr>\n",
       "    <tr>\n",
       "      <th>1</th>\n",
       "      <td>486.461288</td>\n",
       "    </tr>\n",
       "    <tr>\n",
       "      <th>2</th>\n",
       "      <td>853.549018</td>\n",
       "    </tr>\n",
       "    <tr>\n",
       "      <th>3</th>\n",
       "      <td>349.250161</td>\n",
       "    </tr>\n",
       "    <tr>\n",
       "      <th>4</th>\n",
       "      <td>749.473129</td>\n",
       "    </tr>\n",
       "    <tr>\n",
       "      <th>5</th>\n",
       "      <td>684.802677</td>\n",
       "    </tr>\n",
       "    <tr>\n",
       "      <th>6</th>\n",
       "      <td>445.780172</td>\n",
       "    </tr>\n",
       "    <tr>\n",
       "      <th>7</th>\n",
       "      <td>6636.658664</td>\n",
       "    </tr>\n",
       "    <tr>\n",
       "      <th>8</th>\n",
       "      <td>30997.013294</td>\n",
       "    </tr>\n",
       "    <tr>\n",
       "      <th>9</th>\n",
       "      <td>257.543870</td>\n",
       "    </tr>\n",
       "    <tr>\n",
       "      <th>10</th>\n",
       "      <td>379.398708</td>\n",
       "    </tr>\n",
       "    <tr>\n",
       "      <th>11</th>\n",
       "      <td>614.744865</td>\n",
       "    </tr>\n",
       "    <tr>\n",
       "      <th>12</th>\n",
       "      <td>792.224035</td>\n",
       "    </tr>\n",
       "    <tr>\n",
       "      <th>13</th>\n",
       "      <td>1047.105134</td>\n",
       "    </tr>\n",
       "    <tr>\n",
       "      <th>14</th>\n",
       "      <td>330.313785</td>\n",
       "    </tr>\n",
       "    <tr>\n",
       "      <th>15</th>\n",
       "      <td>703.777085</td>\n",
       "    </tr>\n",
       "    <tr>\n",
       "      <th>16</th>\n",
       "      <td>464.364186</td>\n",
       "    </tr>\n",
       "    <tr>\n",
       "      <th>17</th>\n",
       "      <td>451.596261</td>\n",
       "    </tr>\n",
       "    <tr>\n",
       "      <th>18</th>\n",
       "      <td>578.633323</td>\n",
       "    </tr>\n",
       "    <tr>\n",
       "      <th>19</th>\n",
       "      <td>1813.185697</td>\n",
       "    </tr>\n",
       "    <tr>\n",
       "      <th>20</th>\n",
       "      <td>847.965695</td>\n",
       "    </tr>\n",
       "    <tr>\n",
       "      <th>21</th>\n",
       "      <td>355.211469</td>\n",
       "    </tr>\n",
       "    <tr>\n",
       "      <th>22</th>\n",
       "      <td>917.201692</td>\n",
       "    </tr>\n",
       "    <tr>\n",
       "      <th>23</th>\n",
       "      <td>1187.328957</td>\n",
       "    </tr>\n",
       "    <tr>\n",
       "      <th>24</th>\n",
       "      <td>345.396520</td>\n",
       "    </tr>\n",
       "    <tr>\n",
       "      <th>25</th>\n",
       "      <td>925.690397</td>\n",
       "    </tr>\n",
       "    <tr>\n",
       "      <th>26</th>\n",
       "      <td>744.351814</td>\n",
       "    </tr>\n",
       "    <tr>\n",
       "      <th>27</th>\n",
       "      <td>27467.757958</td>\n",
       "    </tr>\n",
       "    <tr>\n",
       "      <th>28</th>\n",
       "      <td>690.555918</td>\n",
       "    </tr>\n",
       "    <tr>\n",
       "      <th>29</th>\n",
       "      <td>178.020656</td>\n",
       "    </tr>\n",
       "    <tr>\n",
       "      <th>...</th>\n",
       "      <td>...</td>\n",
       "    </tr>\n",
       "    <tr>\n",
       "      <th>1021</th>\n",
       "      <td>771.634031</td>\n",
       "    </tr>\n",
       "    <tr>\n",
       "      <th>1022</th>\n",
       "      <td>384.125314</td>\n",
       "    </tr>\n",
       "    <tr>\n",
       "      <th>1023</th>\n",
       "      <td>868.305772</td>\n",
       "    </tr>\n",
       "    <tr>\n",
       "      <th>1024</th>\n",
       "      <td>333.145212</td>\n",
       "    </tr>\n",
       "    <tr>\n",
       "      <th>1025</th>\n",
       "      <td>457.146365</td>\n",
       "    </tr>\n",
       "    <tr>\n",
       "      <th>1026</th>\n",
       "      <td>303.740394</td>\n",
       "    </tr>\n",
       "    <tr>\n",
       "      <th>1027</th>\n",
       "      <td>284.587448</td>\n",
       "    </tr>\n",
       "    <tr>\n",
       "      <th>1028</th>\n",
       "      <td>664.549264</td>\n",
       "    </tr>\n",
       "    <tr>\n",
       "      <th>1029</th>\n",
       "      <td>497.965007</td>\n",
       "    </tr>\n",
       "    <tr>\n",
       "      <th>1030</th>\n",
       "      <td>317.157445</td>\n",
       "    </tr>\n",
       "    <tr>\n",
       "      <th>1031</th>\n",
       "      <td>655.636754</td>\n",
       "    </tr>\n",
       "    <tr>\n",
       "      <th>1032</th>\n",
       "      <td>622.006664</td>\n",
       "    </tr>\n",
       "    <tr>\n",
       "      <th>1033</th>\n",
       "      <td>818.514289</td>\n",
       "    </tr>\n",
       "    <tr>\n",
       "      <th>1034</th>\n",
       "      <td>1417.461534</td>\n",
       "    </tr>\n",
       "    <tr>\n",
       "      <th>1035</th>\n",
       "      <td>470.519260</td>\n",
       "    </tr>\n",
       "    <tr>\n",
       "      <th>1036</th>\n",
       "      <td>410.982051</td>\n",
       "    </tr>\n",
       "    <tr>\n",
       "      <th>1037</th>\n",
       "      <td>579.720008</td>\n",
       "    </tr>\n",
       "    <tr>\n",
       "      <th>1038</th>\n",
       "      <td>732.400195</td>\n",
       "    </tr>\n",
       "    <tr>\n",
       "      <th>1039</th>\n",
       "      <td>851.685152</td>\n",
       "    </tr>\n",
       "    <tr>\n",
       "      <th>1040</th>\n",
       "      <td>215.756640</td>\n",
       "    </tr>\n",
       "    <tr>\n",
       "      <th>1041</th>\n",
       "      <td>736.471377</td>\n",
       "    </tr>\n",
       "    <tr>\n",
       "      <th>1042</th>\n",
       "      <td>308.062734</td>\n",
       "    </tr>\n",
       "    <tr>\n",
       "      <th>1043</th>\n",
       "      <td>207.657905</td>\n",
       "    </tr>\n",
       "    <tr>\n",
       "      <th>1044</th>\n",
       "      <td>614.685974</td>\n",
       "    </tr>\n",
       "    <tr>\n",
       "      <th>1045</th>\n",
       "      <td>785.993853</td>\n",
       "    </tr>\n",
       "    <tr>\n",
       "      <th>1046</th>\n",
       "      <td>1153.601214</td>\n",
       "    </tr>\n",
       "    <tr>\n",
       "      <th>1047</th>\n",
       "      <td>322.062970</td>\n",
       "    </tr>\n",
       "    <tr>\n",
       "      <th>1048</th>\n",
       "      <td>1544.114193</td>\n",
       "    </tr>\n",
       "    <tr>\n",
       "      <th>1049</th>\n",
       "      <td>609.236807</td>\n",
       "    </tr>\n",
       "    <tr>\n",
       "      <th>1050</th>\n",
       "      <td>1528.004276</td>\n",
       "    </tr>\n",
       "  </tbody>\n",
       "</table>\n",
       "<p>1051 rows × 1 columns</p>\n",
       "</div>"
      ],
      "text/plain": [
       "      Selling_Price\n",
       "0       4496.707387\n",
       "1        486.461288\n",
       "2        853.549018\n",
       "3        349.250161\n",
       "4        749.473129\n",
       "5        684.802677\n",
       "6        445.780172\n",
       "7       6636.658664\n",
       "8      30997.013294\n",
       "9        257.543870\n",
       "10       379.398708\n",
       "11       614.744865\n",
       "12       792.224035\n",
       "13      1047.105134\n",
       "14       330.313785\n",
       "15       703.777085\n",
       "16       464.364186\n",
       "17       451.596261\n",
       "18       578.633323\n",
       "19      1813.185697\n",
       "20       847.965695\n",
       "21       355.211469\n",
       "22       917.201692\n",
       "23      1187.328957\n",
       "24       345.396520\n",
       "25       925.690397\n",
       "26       744.351814\n",
       "27     27467.757958\n",
       "28       690.555918\n",
       "29       178.020656\n",
       "...             ...\n",
       "1021     771.634031\n",
       "1022     384.125314\n",
       "1023     868.305772\n",
       "1024     333.145212\n",
       "1025     457.146365\n",
       "1026     303.740394\n",
       "1027     284.587448\n",
       "1028     664.549264\n",
       "1029     497.965007\n",
       "1030     317.157445\n",
       "1031     655.636754\n",
       "1032     622.006664\n",
       "1033     818.514289\n",
       "1034    1417.461534\n",
       "1035     470.519260\n",
       "1036     410.982051\n",
       "1037     579.720008\n",
       "1038     732.400195\n",
       "1039     851.685152\n",
       "1040     215.756640\n",
       "1041     736.471377\n",
       "1042     308.062734\n",
       "1043     207.657905\n",
       "1044     614.685974\n",
       "1045     785.993853\n",
       "1046    1153.601214\n",
       "1047     322.062970\n",
       "1048    1544.114193\n",
       "1049     609.236807\n",
       "1050    1528.004276\n",
       "\n",
       "[1051 rows x 1 columns]"
      ]
     },
     "execution_count": 3153,
     "metadata": {},
     "output_type": "execute_result"
    }
   ],
   "source": [
    "sample"
   ]
  },
  {
   "cell_type": "code",
   "execution_count": null,
   "metadata": {},
   "outputs": [],
   "source": []
  }
 ],
 "metadata": {
  "kernelspec": {
   "display_name": "Python 3",
   "language": "python",
   "name": "python3"
  },
  "language_info": {
   "codemirror_mode": {
    "name": "ipython",
    "version": 3
   },
   "file_extension": ".py",
   "mimetype": "text/x-python",
   "name": "python",
   "nbconvert_exporter": "python",
   "pygments_lexer": "ipython3",
   "version": "3.7.1"
  }
 },
 "nbformat": 4,
 "nbformat_minor": 4
}
